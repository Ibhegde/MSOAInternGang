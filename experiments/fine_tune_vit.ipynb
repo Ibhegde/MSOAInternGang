{
 "cells": [
  {
   "attachments": {},
   "cell_type": "markdown",
   "metadata": {},
   "source": [
    "## Run pre-trained model on a sample image"
   ]
  },
  {
   "cell_type": "code",
   "execution_count": 1,
   "metadata": {},
   "outputs": [
    {
     "data": {
      "application/vnd.jupyter.widget-view+json": {
       "model_id": "bf7bdc9923114b26b13dec281392ed02",
       "version_major": 2,
       "version_minor": 0
      },
      "text/plain": [
       "Downloading (…)rocessor_config.json:   0%|          | 0.00/160 [00:00<?, ?B/s]"
      ]
     },
     "metadata": {},
     "output_type": "display_data"
    },
    {
     "name": "stderr",
     "output_type": "stream",
     "text": [
      "c:\\Users\\bhegde\\codes\\MSOAInternGang\\aie_venv\\lib\\site-packages\\huggingface_hub\\file_download.py:129: UserWarning: `huggingface_hub` cache-system uses symlinks by default to efficiently store duplicated files but your machine does not support them in C:\\Users\\bhegde\\.cache\\huggingface\\hub. Caching files will still work but in a degraded version that might require more space on your disk. This warning can be disabled by setting the `HF_HUB_DISABLE_SYMLINKS_WARNING` environment variable. For more details, see https://huggingface.co/docs/huggingface_hub/how-to-cache#limitations.\n",
      "To support symlinks on Windows, you either need to activate Developer Mode or to run Python as an administrator. In order to see activate developer mode, see this article: https://docs.microsoft.com/en-us/windows/apps/get-started/enable-your-device-for-development\n",
      "  warnings.warn(message)\n",
      "All model checkpoint layers were used when initializing TFViTForImageClassification.\n",
      "\n",
      "All the layers of TFViTForImageClassification were initialized from the model checkpoint at google/vit-base-patch16-224.\n",
      "If your task is similar to the task the model of the checkpoint was trained on, you can already use TFViTForImageClassification for predictions without further training.\n"
     ]
    },
    {
     "name": "stdout",
     "output_type": "stream",
     "text": [
      "Predicted class: web site, website, internet site, site\n"
     ]
    }
   ],
   "source": [
    "from transformers import ViTImageProcessor, TFViTForImageClassification\n",
    "from PIL import Image\n",
    "import tensorflow as tf\n",
    "\n",
    "img_path = 'TRAIN_IMAGES/10109_00108093-058_bb2203g0026_004_585572_fr_b2b_pan_fy22q4_sit_esg_maturity_cloud_dcf_300x250.jpg'\n",
    "image = Image.open(img_path)\n",
    "\n",
    "feature_extractor = ViTImageProcessor.from_pretrained('google/vit-base-patch16-224-in21k', \n",
    "                                                        proxies={'https': 'proxy-ir.intel.com:912'})\n",
    "model = TFViTForImageClassification.from_pretrained('google/vit-base-patch16-224', \n",
    "                                                  proxies={'https': 'proxy-ir.intel.com:912'})\n",
    "\n",
    "inputs = feature_extractor(images=image, return_tensors=\"tf\")\n",
    "outputs = model(**inputs)\n",
    "logits = outputs.logits\n",
    "# model predicts one of the 1000 ImageNet classes\n",
    "predicted_class_idx = tf.math.argmax(logits, -1).numpy()[0]\n",
    "print(\"Predicted class:\", model.config.id2label[predicted_class_idx])\n"
   ]
  },
  {
   "attachments": {},
   "cell_type": "markdown",
   "metadata": {},
   "source": [
    "## Fine tune pretrained model"
   ]
  },
  {
   "cell_type": "code",
   "execution_count": null,
   "metadata": {},
   "outputs": [],
   "source": [
    "from transformers import ViTImageProcessor, TFViTForImageClassification\n",
    "from PIL import Image\n",
    "import tensorflow as tf\n",
    "\n",
    "import matplotlib.pyplot as plt\n",
    "import numpy as np\n",
    "import os\n",
    "import tensorflow as tf\n",
    "\n"
   ]
  },
  {
   "cell_type": "code",
   "execution_count": 3,
   "metadata": {},
   "outputs": [
    {
     "name": "stdout",
     "output_type": "stream",
     "text": [
      "{'POA_attribution_map': {'No': 0, 'Yes': 1}, 'activity_category_map': {'Digital Media': 0, 'Paid Social Media': 1, 'Print': 2, 'Out of Home Media': 3, 'Out of Home': 4}, 'activity_type_map': {'NonPartner.com': 0, 'Member.com': 1, 'Online Display': 2, 'Magazine/Newspaper': 3, 'Billboard/Transit': 4, 'Collateral': 5, 'Misc': 6, 'IndustryPartner.com': 7}}\n"
     ]
    },
    {
     "data": {
      "text/html": [
       "<div>\n",
       "<style scoped>\n",
       "    .dataframe tbody tr th:only-of-type {\n",
       "        vertical-align: middle;\n",
       "    }\n",
       "\n",
       "    .dataframe tbody tr th {\n",
       "        vertical-align: top;\n",
       "    }\n",
       "\n",
       "    .dataframe thead th {\n",
       "        text-align: right;\n",
       "    }\n",
       "</style>\n",
       "<table border=\"1\" class=\"dataframe\">\n",
       "  <thead>\n",
       "    <tr style=\"text-align: right;\">\n",
       "      <th></th>\n",
       "      <th>ref_id</th>\n",
       "      <th>POA_attribution</th>\n",
       "      <th>activity_category</th>\n",
       "      <th>activity_type</th>\n",
       "    </tr>\n",
       "  </thead>\n",
       "  <tbody>\n",
       "    <tr>\n",
       "      <th>0</th>\n",
       "      <td>00060420-005</td>\n",
       "      <td>1</td>\n",
       "      <td>0</td>\n",
       "      <td>0</td>\n",
       "    </tr>\n",
       "    <tr>\n",
       "      <th>1</th>\n",
       "      <td>00060435-003</td>\n",
       "      <td>1</td>\n",
       "      <td>0</td>\n",
       "      <td>0</td>\n",
       "    </tr>\n",
       "    <tr>\n",
       "      <th>2</th>\n",
       "      <td>00060864-006</td>\n",
       "      <td>1</td>\n",
       "      <td>0</td>\n",
       "      <td>0</td>\n",
       "    </tr>\n",
       "    <tr>\n",
       "      <th>3</th>\n",
       "      <td>00066206-002</td>\n",
       "      <td>1</td>\n",
       "      <td>0</td>\n",
       "      <td>0</td>\n",
       "    </tr>\n",
       "    <tr>\n",
       "      <th>4</th>\n",
       "      <td>00069748-002</td>\n",
       "      <td>1</td>\n",
       "      <td>0</td>\n",
       "      <td>0</td>\n",
       "    </tr>\n",
       "  </tbody>\n",
       "</table>\n",
       "</div>"
      ],
      "text/plain": [
       "         ref_id  POA_attribution  activity_category  activity_type\n",
       "0  00060420-005                1                  0              0\n",
       "1  00060435-003                1                  0              0\n",
       "2  00060864-006                1                  0              0\n",
       "3  00066206-002                1                  0              0\n",
       "4  00069748-002                1                  0              0"
      ]
     },
     "execution_count": 3,
     "metadata": {},
     "output_type": "execute_result"
    }
   ],
   "source": [
    "from src.analysis import get_label_map\n",
    "import pandas as pd\n",
    "metadata_file = \"data/TRAIN_images_metadata.csv\"\n",
    "\n",
    "src_df = pd.read_csv(metadata_file)\n",
    "\n",
    "# columns: image_name,ref_id, POA_attribution,activity_category,activity_type\n",
    "stat_df = src_df.groupby(\"ref_id\").agg(\n",
    "    {\n",
    "        \"image_name\": len,\n",
    "    }\n",
    ")\n",
    "agg_data = pd.DataFrame(\n",
    "    columns=[\n",
    "        \"ref_id\",\n",
    "        \"POA_attribution\",\n",
    "        \"activity_category\",\n",
    "        \"activity_type\",\n",
    "    ]\n",
    ")\n",
    "\n",
    "agg_data[\"ref_id\"] = stat_df.index\n",
    "label_map = get_label_map()\n",
    "print(label_map)\n",
    "base_poa = label_map[\"POA_attribution_map\"][\"Yes\"]\n",
    "base_ac = label_map[\"activity_type_map\"][\"NonPartner.com\"]\n",
    "base_at = label_map[\"activity_category_map\"][\"Digital Media\"]\n",
    "\n",
    "agg_data[\"POA_attribution\"].fillna(base_poa, inplace=True)\n",
    "agg_data[\"activity_category\"].fillna(base_ac, inplace=True)\n",
    "agg_data[\"activity_type\"].fillna(base_at, inplace=True)\n",
    "\n",
    "agg_data.head()"
   ]
  }
 ],
 "metadata": {
  "kernelspec": {
   "display_name": "aie_venv",
   "language": "python",
   "name": "python3"
  },
  "language_info": {
   "codemirror_mode": {
    "name": "ipython",
    "version": 3
   },
   "file_extension": ".py",
   "mimetype": "text/x-python",
   "name": "python",
   "nbconvert_exporter": "python",
   "pygments_lexer": "ipython3",
   "version": "3.10.9"
  },
  "orig_nbformat": 4,
  "vscode": {
   "interpreter": {
    "hash": "788814ecf7b2e71f9aac606fb3eee6b860c44d0c5a650a586b0a505ba47499ae"
   }
  }
 },
 "nbformat": 4,
 "nbformat_minor": 2
}
