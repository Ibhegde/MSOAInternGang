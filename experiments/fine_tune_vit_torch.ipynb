{
 "cells": [
  {
   "cell_type": "markdown",
   "metadata": {},
   "source": [
    "## Fine tune pretrained model"
   ]
  },
  {
   "cell_type": "markdown",
   "metadata": {},
   "source": [
    "Initialise the model and feature extractor"
   ]
  },
  {
   "cell_type": "code",
   "execution_count": 38,
   "metadata": {},
   "outputs": [
    {
     "name": "stdout",
     "output_type": "stream",
     "text": [
      "ViTImageProcessor {\n",
      "  \"do_normalize\": true,\n",
      "  \"do_rescale\": true,\n",
      "  \"do_resize\": true,\n",
      "  \"image_mean\": [\n",
      "    0.5,\n",
      "    0.5,\n",
      "    0.5\n",
      "  ],\n",
      "  \"image_processor_type\": \"ViTImageProcessor\",\n",
      "  \"image_std\": [\n",
      "    0.5,\n",
      "    0.5,\n",
      "    0.5\n",
      "  ],\n",
      "  \"resample\": 2,\n",
      "  \"rescale_factor\": 0.00392156862745098,\n",
      "  \"size\": {\n",
      "    \"height\": 224,\n",
      "    \"width\": 224\n",
      "  }\n",
      "}\n",
      "\n"
     ]
    }
   ],
   "source": [
    "from transformers import ViTImageProcessor\n",
    "from transformers import ViTConfig\n",
    "\n",
    "model_name_or_path = 'google/vit-base-patch16-224-in21k'\n",
    "feature_extractor = ViTImageProcessor.from_pretrained(model_name_or_path, proxies={'https': 'proxy-ir.intel.com:912'})\n",
    "\n",
    "vit_conf = ViTConfig.from_pretrained(model_name_or_path, proxies={'https': 'proxy-ir.intel.com:912'})\n",
    "print(feature_extractor)\n",
    "vit_conf.attention_probs_dropout_prob = 0.1\n",
    "vit_conf.hidden_dropout_prob = 0.1\n",
    "vit_conf.image_size = 2240\n",
    "# vit_conf.patch_size = 160\n",
    "# vit_conf.encoder_stride = 160"
   ]
  },
  {
   "cell_type": "code",
   "execution_count": 4,
   "metadata": {},
   "outputs": [],
   "source": [
    "from torch.utils.data import Dataset, DataLoader\n",
    "from PIL import Image\n",
    "import pandas as pd\n",
    "import os\n",
    "import numpy as np\n"
   ]
  },
  {
   "cell_type": "code",
   "execution_count": null,
   "metadata": {},
   "outputs": [],
   "source": [
    "# from transformers import ViTForImageClassification\n",
    "\n",
    "\n",
    "# # stat_df = pd.read_csv(\"data/TRAIN_images_metadata.csv\")\n",
    "\n",
    "# # stat_df = stat_df.sample(20, random_state=8, ignore_index=True)\n",
    "\n",
    "# def process_image(image_file):\n",
    "#     img_pil = Image.open(os.path.join(\"I:/TRAIN_IMAGES/\", image_file)).convert(\"RGB\")\n",
    "#     inp_img_enc = feature_extractor(img_pil, return_tensors='pt')\n",
    "#     return inp_img_enc['pixel_values']\n",
    "\n",
    "# # stat_df['pixel_values'] = stat_df['image_name'].map(process_image)\n"
   ]
  },
  {
   "cell_type": "code",
   "execution_count": 5,
   "metadata": {},
   "outputs": [],
   "source": [
    "from src.util import get_label_map\n",
    "\n",
    "label_col = 'activity_type'\n",
    "\n",
    "labels_lst = get_label_map()[label_col]\n",
    "# stat_df[label_col] = stat_df[label_col].map(lambda el:labels_lst[el])"
   ]
  },
  {
   "cell_type": "markdown",
   "metadata": {},
   "source": [
    "### From Torch ImageFolder "
   ]
  },
  {
   "cell_type": "code",
   "execution_count": 13,
   "metadata": {},
   "outputs": [],
   "source": [
    "# # import evaluate\n",
    "# import numpy as np\n",
    "# import torch\n",
    "# from src.util import get_data_set\n",
    "\n",
    "# # train_data = stat_df[['pixel_values', label_col]].loc[:14].to_dict(orient='records')\n",
    "# # valid_data = stat_df[['pixel_values', label_col]].loc[15:].to_dict(orient='records')\n",
    "\n",
    "# train_data = get_data_set(os.path.join(\"TRAIN_IMAGES/\", label_col), sample_type=\"train\", transform=feature_extractor)\n",
    "# valid_data = get_data_set(os.path.join(\"TRAIN_IMAGES/\", label_col), sample_type=\"validation\", transform=feature_extractor)\n",
    "\n",
    "def collate_fn(batch):\n",
    "    return {\n",
    "        'pixel_values': torch.stack([x['pixel_values'] for x in batch]),\n",
    "        # 'labels': torch.tensor([x[label_col] for x in batch])\n",
    "        'labels': torch.tensor([x['labels'] for x in batch])\n",
    "    }\n",
    "\n"
   ]
  },
  {
   "cell_type": "code",
   "execution_count": 6,
   "metadata": {},
   "outputs": [
    {
     "name": "stdout",
     "output_type": "stream",
     "text": [
      "TRAIN_IMAGES_50/activity_type\n"
     ]
    },
    {
     "data": {
      "application/vnd.jupyter.widget-view+json": {
       "model_id": "5cdfab0cfbf04ce9b7156b6ba36ffade",
       "version_major": 2,
       "version_minor": 0
      },
      "text/plain": [
       "Resolving data files:   0%|          | 0/334 [00:00<?, ?it/s]"
      ]
     },
     "metadata": {},
     "output_type": "display_data"
    },
    {
     "data": {
      "application/vnd.jupyter.widget-view+json": {
       "model_id": "2460547ca2e04c6b92dac8a44b66b0f7",
       "version_major": 2,
       "version_minor": 0
      },
      "text/plain": [
       "Resolving data files:   0%|          | 0/275 [00:00<?, ?it/s]"
      ]
     },
     "metadata": {},
     "output_type": "display_data"
    },
    {
     "data": {
      "application/vnd.jupyter.widget-view+json": {
       "model_id": "01f662af34714f70bdf7e8a2c272e75d",
       "version_major": 2,
       "version_minor": 0
      },
      "text/plain": [
       "Resolving data files:   0%|          | 0/620 [00:00<?, ?it/s]"
      ]
     },
     "metadata": {},
     "output_type": "display_data"
    },
    {
     "name": "stderr",
     "output_type": "stream",
     "text": [
      "Found cached dataset imagefolder (C:/Users/bhegde/.cache/huggingface/datasets/imagefolder/default-649c247ffd244c21/0.0.0/37fbb85cc714a338bea574ac6c7d0b5be5aff46c1862c1989b20e0771199e93f)\n"
     ]
    },
    {
     "data": {
      "application/vnd.jupyter.widget-view+json": {
       "model_id": "383dc98b23f446349607eb27228242e6",
       "version_major": 2,
       "version_minor": 0
      },
      "text/plain": [
       "  0%|          | 0/3 [00:00<?, ?it/s]"
      ]
     },
     "metadata": {},
     "output_type": "display_data"
    },
    {
     "name": "stdout",
     "output_type": "stream",
     "text": [
      "{'image': Image(decode=True, id=None), 'label': ClassLabel(names=['Billboard-Transit', 'Collateral', 'IndustryPartner.com', 'Magazine-Newspaper', 'Member.com', 'Misc', 'NonPartner.com', 'Online Display'], id=None)}\n",
      "{'NonPartner.com': 0, 'Member.com': 1, 'Online Display': 2, 'Magazine-Newspaper': 3, 'Billboard-Transit': 4, 'Collateral': 5, 'Misc': 6, 'IndustryPartner.com': 7}\n"
     ]
    }
   ],
   "source": [
    "from datasets import load_dataset\n",
    "\n",
    "data_dir = os.path.join(\"TRAIN_IMAGES_50/\", label_col)\n",
    "print(data_dir)\n",
    "dataset = load_dataset(\"imagefolder\", data_dir=data_dir, drop_labels=False)\n",
    "print(dataset[\"train\"].features)\n",
    "print(labels_lst)\n",
    "# dataset = load_dataset(\"imagefolder\", data_dir=\"I:/TRAIN_IMAGES/\", split=\"train\")\n",
    "# dataset = dataset.train_test_split(test_size=0.1)\n"
   ]
  },
  {
   "cell_type": "code",
   "execution_count": null,
   "metadata": {},
   "outputs": [],
   "source": [
    "# from src.dataset import AIECVDataSet\n",
    "# import random\n",
    "# import matplotlib.pyplot as plt\n",
    "# train_dataset = AIECVDataSet(csv_file=\"data/TRAIN_images_metadata.csv\", root_dir=\"/home/jovyan/TRAIN_IMAGES\", label_col=label_col, transform=feature_extractor)\n",
    "\n",
    "# # plt.figure(figsize=(12, 6))\n",
    "# # for i in range(10):\n",
    "# #     idx = random.randint(0, len(train_dataset))\n",
    "# #     image, class_name = train_dataset[idx]\n",
    "# #     ax=plt.subplot(2,5,i+1) # create an axis\n",
    "# #     ax.title.set_text(class_name) # create a name of the axis based on the img name\n",
    "# #     #The final tensor arrays will be of the form (C * H * W), instead of the original (H * W * C), \n",
    "# #     # hence use permute to change the order\n",
    "# #     plt.imshow(image.permute(1, 2, 0)) # show the img\n",
    "# len(train_dataset)"
   ]
  },
  {
   "cell_type": "code",
   "execution_count": 10,
   "metadata": {},
   "outputs": [
    {
     "name": "stdout",
     "output_type": "stream",
     "text": [
      "Dataset({\n",
      "    features: ['image', 'label'],\n",
      "    num_rows: 333\n",
      "})\n"
     ]
    }
   ],
   "source": [
    "\n",
    "from torchvision.transforms import RandomResizedCrop, RandomHorizontalFlip, Compose, Normalize, ToTensor, Resize, CenterCrop\n",
    "\n",
    "normalise = Normalize(mean=feature_extractor.image_mean, std=feature_extractor.image_std)\n",
    "feature_size = (\n",
    "    feature_extractor.size[\"shortest_edge\"]\n",
    "    if \"shortest_edge\" in feature_extractor.size\n",
    "    else (feature_extractor.size[\"height\"], feature_extractor.size[\"width\"])\n",
    ")\n",
    "size = (vit_conf.image_size, vit_conf.image_size)\n",
    "\n",
    "preprocess_train = Compose(\n",
    "    [\n",
    "        RandomResizedCrop(size),\n",
    "        RandomHorizontalFlip(),\n",
    "        ToTensor(),\n",
    "        normalise,\n",
    "    ]\n",
    ")\n",
    "preprocess_val = Compose(\n",
    "    [\n",
    "        Resize(size),\n",
    "        CenterCrop(size),\n",
    "        ToTensor(),\n",
    "        normalise,\n",
    "    ]\n",
    ")\n",
    "\n",
    "# def transform_image(image_files):\n",
    "#     inputs = feature_extractor([x.convert(\"RGB\") for x in image_files['image']], return_tensors='pt')\n",
    "#     inputs['labels'] = image_files['label']\n",
    "#     return inputs\n",
    "def train_transform_image(image_files):\n",
    "    inputs = {}\n",
    "    inputs['pixel_values'] = [preprocess_train(x.convert(\"RGB\")) for x in image_files['image']]\n",
    "    inputs['labels'] = image_files['label']\n",
    "    return inputs\n",
    "\n",
    "def val_transform_image(image_files):\n",
    "    inputs = {}\n",
    "    inputs['pixel_values'] = [preprocess_val(x.convert(\"RGB\")) for x in image_files['image']]\n",
    "    inputs['labels'] = image_files['label']\n",
    "    return inputs\n",
    "\n",
    "train_prep_ds = dataset[\"train\"].with_transform(train_transform_image)\n",
    "valid_prep_ds = dataset[\"validation\"].with_transform(val_transform_image)\n",
    "\n",
    "print(train_prep_ds)"
   ]
  },
  {
   "cell_type": "code",
   "execution_count": 11,
   "metadata": {},
   "outputs": [],
   "source": [
    "from sklearn.metrics import f1_score\n",
    "\n",
    "def compute_metrics(eval_pred):\n",
    "    predictions, labels = eval_pred\n",
    "    predictions = np.argmax(predictions, axis=1)\n",
    "    # return accuracy_score(y_true = labels, y_pred = predictions)\n",
    "    return {\n",
    "            \"f1\": float(\n",
    "                f1_score(y_true = labels, y_pred = predictions)\n",
    "            )\n",
    "        }"
   ]
  },
  {
   "cell_type": "code",
   "execution_count": 18,
   "metadata": {},
   "outputs": [
    {
     "ename": "RuntimeError",
     "evalue": "Error(s) in loading state_dict for ViTForImageClassification:\n\tsize mismatch for embeddings.position_embeddings: copying a param with shape torch.Size([1, 197, 768]) from checkpoint, the shape in current model is torch.Size([1, 19601, 768]).\n\tYou may consider adding `ignore_mismatched_sizes=True` in the model `from_pretrained` method.",
     "output_type": "error",
     "traceback": [
      "\u001b[1;31m---------------------------------------------------------------------------\u001b[0m",
      "\u001b[1;31mRuntimeError\u001b[0m                              Traceback (most recent call last)",
      "Cell \u001b[1;32mIn[18], line 9\u001b[0m\n\u001b[0;32m      6\u001b[0m vit_conf\u001b[39m.\u001b[39mid2label \u001b[39m=\u001b[39m {v : k \u001b[39mfor\u001b[39;00m k,v \u001b[39min\u001b[39;00m labels_lst\u001b[39m.\u001b[39mitems()}\n\u001b[0;32m      7\u001b[0m vit_conf\u001b[39m.\u001b[39mlabel2id \u001b[39m=\u001b[39m labels_lst\n\u001b[1;32m----> 9\u001b[0m model \u001b[39m=\u001b[39m ViTForImageClassification\u001b[39m.\u001b[39;49mfrom_pretrained(\n\u001b[0;32m     10\u001b[0m     model_name_or_path,\n\u001b[0;32m     11\u001b[0m     proxies\u001b[39m=\u001b[39;49m{\u001b[39m'\u001b[39;49m\u001b[39mhttps\u001b[39;49m\u001b[39m'\u001b[39;49m: \u001b[39m'\u001b[39;49m\u001b[39mproxy-ir.intel.com:912\u001b[39;49m\u001b[39m'\u001b[39;49m},\n\u001b[0;32m     12\u001b[0m     config\u001b[39m=\u001b[39;49m vit_conf,\n\u001b[0;32m     13\u001b[0m )\n\u001b[0;32m     16\u001b[0m \u001b[39mfrom\u001b[39;00m \u001b[39mtransformers\u001b[39;00m \u001b[39mimport\u001b[39;00m TrainingArguments\n\u001b[0;32m     18\u001b[0m training_args \u001b[39m=\u001b[39m TrainingArguments(\n\u001b[0;32m     19\u001b[0m   output_dir\u001b[39m=\u001b[39m\u001b[39m\"\u001b[39m\u001b[39m./vit-base-AIE-sample\u001b[39m\u001b[39m\"\u001b[39m,\n\u001b[0;32m     20\u001b[0m   per_device_train_batch_size\u001b[39m=\u001b[39m\u001b[39m16\u001b[39m,\n\u001b[1;32m   (...)\u001b[0m\n\u001b[0;32m     32\u001b[0m   load_best_model_at_end\u001b[39m=\u001b[39m\u001b[39mTrue\u001b[39;00m,\n\u001b[0;32m     33\u001b[0m )\n",
      "File \u001b[1;32mc:\\Users\\bhegde\\codes\\MSOAInternGang\\aie_venv\\lib\\site-packages\\transformers\\modeling_utils.py:2478\u001b[0m, in \u001b[0;36mPreTrainedModel.from_pretrained\u001b[1;34m(cls, pretrained_model_name_or_path, *model_args, **kwargs)\u001b[0m\n\u001b[0;32m   2468\u001b[0m     \u001b[39mif\u001b[39;00m dtype_orig \u001b[39mis\u001b[39;00m \u001b[39mnot\u001b[39;00m \u001b[39mNone\u001b[39;00m:\n\u001b[0;32m   2469\u001b[0m         torch\u001b[39m.\u001b[39mset_default_dtype(dtype_orig)\n\u001b[0;32m   2471\u001b[0m     (\n\u001b[0;32m   2472\u001b[0m         model,\n\u001b[0;32m   2473\u001b[0m         missing_keys,\n\u001b[0;32m   2474\u001b[0m         unexpected_keys,\n\u001b[0;32m   2475\u001b[0m         mismatched_keys,\n\u001b[0;32m   2476\u001b[0m         offload_index,\n\u001b[0;32m   2477\u001b[0m         error_msgs,\n\u001b[1;32m-> 2478\u001b[0m     ) \u001b[39m=\u001b[39m \u001b[39mcls\u001b[39;49m\u001b[39m.\u001b[39;49m_load_pretrained_model(\n\u001b[0;32m   2479\u001b[0m         model,\n\u001b[0;32m   2480\u001b[0m         state_dict,\n\u001b[0;32m   2481\u001b[0m         loaded_state_dict_keys,  \u001b[39m# XXX: rename?\u001b[39;49;00m\n\u001b[0;32m   2482\u001b[0m         resolved_archive_file,\n\u001b[0;32m   2483\u001b[0m         pretrained_model_name_or_path,\n\u001b[0;32m   2484\u001b[0m         ignore_mismatched_sizes\u001b[39m=\u001b[39;49mignore_mismatched_sizes,\n\u001b[0;32m   2485\u001b[0m         sharded_metadata\u001b[39m=\u001b[39;49msharded_metadata,\n\u001b[0;32m   2486\u001b[0m         _fast_init\u001b[39m=\u001b[39;49m_fast_init,\n\u001b[0;32m   2487\u001b[0m         low_cpu_mem_usage\u001b[39m=\u001b[39;49mlow_cpu_mem_usage,\n\u001b[0;32m   2488\u001b[0m         device_map\u001b[39m=\u001b[39;49mdevice_map,\n\u001b[0;32m   2489\u001b[0m         offload_folder\u001b[39m=\u001b[39;49moffload_folder,\n\u001b[0;32m   2490\u001b[0m         offload_state_dict\u001b[39m=\u001b[39;49moffload_state_dict,\n\u001b[0;32m   2491\u001b[0m         dtype\u001b[39m=\u001b[39;49mtorch_dtype,\n\u001b[0;32m   2492\u001b[0m         load_in_8bit\u001b[39m=\u001b[39;49mload_in_8bit,\n\u001b[0;32m   2493\u001b[0m         keep_in_fp32_modules\u001b[39m=\u001b[39;49mkeep_in_fp32_modules,\n\u001b[0;32m   2494\u001b[0m     )\n\u001b[0;32m   2496\u001b[0m model\u001b[39m.\u001b[39mis_loaded_in_8bit \u001b[39m=\u001b[39m load_in_8bit\n\u001b[0;32m   2498\u001b[0m \u001b[39m# make sure token embedding weights are still tied if needed\u001b[39;00m\n",
      "File \u001b[1;32mc:\\Users\\bhegde\\codes\\MSOAInternGang\\aie_venv\\lib\\site-packages\\transformers\\modeling_utils.py:2844\u001b[0m, in \u001b[0;36mPreTrainedModel._load_pretrained_model\u001b[1;34m(cls, model, state_dict, loaded_keys, resolved_archive_file, pretrained_model_name_or_path, ignore_mismatched_sizes, sharded_metadata, _fast_init, low_cpu_mem_usage, device_map, offload_folder, offload_state_dict, dtype, load_in_8bit, keep_in_fp32_modules)\u001b[0m\n\u001b[0;32m   2840\u001b[0m     \u001b[39mif\u001b[39;00m \u001b[39m\"\u001b[39m\u001b[39msize mismatch\u001b[39m\u001b[39m\"\u001b[39m \u001b[39min\u001b[39;00m error_msg:\n\u001b[0;32m   2841\u001b[0m         error_msg \u001b[39m+\u001b[39m\u001b[39m=\u001b[39m (\n\u001b[0;32m   2842\u001b[0m             \u001b[39m\"\u001b[39m\u001b[39m\\n\u001b[39;00m\u001b[39m\\t\u001b[39;00m\u001b[39mYou may consider adding `ignore_mismatched_sizes=True` in the model `from_pretrained` method.\u001b[39m\u001b[39m\"\u001b[39m\n\u001b[0;32m   2843\u001b[0m         )\n\u001b[1;32m-> 2844\u001b[0m     \u001b[39mraise\u001b[39;00m \u001b[39mRuntimeError\u001b[39;00m(\u001b[39mf\u001b[39m\u001b[39m\"\u001b[39m\u001b[39mError(s) in loading state_dict for \u001b[39m\u001b[39m{\u001b[39;00mmodel\u001b[39m.\u001b[39m\u001b[39m__class__\u001b[39m\u001b[39m.\u001b[39m\u001b[39m__name__\u001b[39m\u001b[39m}\u001b[39;00m\u001b[39m:\u001b[39m\u001b[39m\\n\u001b[39;00m\u001b[39m\\t\u001b[39;00m\u001b[39m{\u001b[39;00merror_msg\u001b[39m}\u001b[39;00m\u001b[39m\"\u001b[39m)\n\u001b[0;32m   2846\u001b[0m \u001b[39mif\u001b[39;00m \u001b[39mlen\u001b[39m(unexpected_keys) \u001b[39m>\u001b[39m \u001b[39m0\u001b[39m:\n\u001b[0;32m   2847\u001b[0m     logger\u001b[39m.\u001b[39mwarning(\n\u001b[0;32m   2848\u001b[0m         \u001b[39mf\u001b[39m\u001b[39m\"\u001b[39m\u001b[39mSome weights of the model checkpoint at \u001b[39m\u001b[39m{\u001b[39;00mpretrained_model_name_or_path\u001b[39m}\u001b[39;00m\u001b[39m were not used when\u001b[39m\u001b[39m\"\u001b[39m\n\u001b[0;32m   2849\u001b[0m         \u001b[39mf\u001b[39m\u001b[39m\"\u001b[39m\u001b[39m initializing \u001b[39m\u001b[39m{\u001b[39;00mmodel\u001b[39m.\u001b[39m\u001b[39m__class__\u001b[39m\u001b[39m.\u001b[39m\u001b[39m__name__\u001b[39m\u001b[39m}\u001b[39;00m\u001b[39m: \u001b[39m\u001b[39m{\u001b[39;00munexpected_keys\u001b[39m}\u001b[39;00m\u001b[39m\\n\u001b[39;00m\u001b[39m- This IS expected if you are\u001b[39m\u001b[39m\"\u001b[39m\n\u001b[1;32m   (...)\u001b[0m\n\u001b[0;32m   2854\u001b[0m         \u001b[39m\"\u001b[39m\u001b[39m (initializing a BertForSequenceClassification model from a BertForSequenceClassification model).\u001b[39m\u001b[39m\"\u001b[39m\n\u001b[0;32m   2855\u001b[0m     )\n",
      "\u001b[1;31mRuntimeError\u001b[0m: Error(s) in loading state_dict for ViTForImageClassification:\n\tsize mismatch for embeddings.position_embeddings: copying a param with shape torch.Size([1, 197, 768]) from checkpoint, the shape in current model is torch.Size([1, 19601, 768]).\n\tYou may consider adding `ignore_mismatched_sizes=True` in the model `from_pretrained` method."
     ]
    }
   ],
   "source": [
    "from transformers import ViTForImageClassification\n",
    "\n",
    "Image.MAX_IMAGE_PIXELS = None\n",
    "\n",
    "vit_conf .num_labels = len(labels_lst)\n",
    "vit_conf.id2label = {v : k for k,v in labels_lst.items()}\n",
    "vit_conf.label2id = labels_lst\n",
    "\n",
    "model = ViTForImageClassification.from_pretrained(\n",
    "    model_name_or_path,\n",
    "    proxies={'https': 'proxy-ir.intel.com:912'},\n",
    "    config= vit_conf,\n",
    ")\n",
    "\n",
    "\n",
    "from transformers import TrainingArguments\n",
    "\n",
    "training_args = TrainingArguments(\n",
    "  output_dir=\"./vit-base-AIE-sample\",\n",
    "  per_device_train_batch_size=16,\n",
    "  evaluation_strategy=\"steps\",\n",
    "  num_train_epochs=10,\n",
    "  # fp16=True,\n",
    "  save_steps=100,\n",
    "  eval_steps=100,\n",
    "  logging_steps=10,\n",
    "  learning_rate=1e-6,\n",
    "  save_total_limit=2,\n",
    "  remove_unused_columns=False,\n",
    "  push_to_hub=False,\n",
    "  report_to='tensorboard',\n",
    "  load_best_model_at_end=True,\n",
    ")\n",
    "\n",
    "\n",
    "from transformers import Trainer\n",
    "\n",
    "trainer = Trainer(\n",
    "    model=model,\n",
    "    args=training_args,\n",
    "    data_collator=collate_fn,\n",
    "    compute_metrics=compute_metrics,\n",
    "    train_dataset=train_prep_ds,\n",
    "    eval_dataset=valid_prep_ds,\n",
    "    tokenizer=feature_extractor,\n",
    ")"
   ]
  },
  {
   "cell_type": "code",
   "execution_count": null,
   "metadata": {},
   "outputs": [],
   "source": [
    "train_results = trainer.train()\n",
    "trainer.save_model()\n",
    "trainer.log_metrics(\"train\", train_results.metrics)\n",
    "trainer.save_metrics(\"train\", train_results.metrics)\n",
    "trainer.save_state()"
   ]
  },
  {
   "cell_type": "code",
   "execution_count": null,
   "metadata": {},
   "outputs": [],
   "source": [
    "metrics = trainer.evaluate(prep_ds[\"test\"])\n",
    "trainer.log_metrics(\"eval\", metrics)\n",
    "trainer.save_metrics(\"eval\", metrics)"
   ]
  },
  {
   "cell_type": "code",
   "execution_count": null,
   "metadata": {},
   "outputs": [],
   "source": [
    "os.getcwd()\n",
    "# %load_ext tensorboard\n"
   ]
  },
  {
   "cell_type": "code",
   "execution_count": null,
   "metadata": {},
   "outputs": [],
   "source": [
    "from transformers import ViTConfig\n",
    "\n",
    "model_name_or_path = 'google/vit-base-patch16-224-in21k'\n",
    "# feature_extractor = ViTImageProcessor.from_pretrained()\n",
    "vc = ViTConfig.from_pretrained(model_name_or_path, proxies={'https': 'proxy-ir.intel.com:912'})\n",
    "vc.attention_probs_dropout_prob = 0.1\n",
    "vc.hidden_dropout_prob = 0.1\n",
    "vc.image_size = 2240\n",
    "vc.patch_size = 160\n",
    "vc.encoder_stride = 160\n",
    "print(vc)"
   ]
  },
  {
   "cell_type": "code",
   "execution_count": 37,
   "metadata": {},
   "outputs": [
    {
     "name": "stdout",
     "output_type": "stream",
     "text": [
      "LevitFeatureExtractor {\n",
      "  \"crop_size\": {\n",
      "    \"height\": 224,\n",
      "    \"width\": 224\n",
      "  },\n",
      "  \"do_center_crop\": true,\n",
      "  \"do_normalize\": true,\n",
      "  \"do_rescale\": true,\n",
      "  \"do_resize\": true,\n",
      "  \"feature_extractor_type\": \"LevitFeatureExtractor\",\n",
      "  \"image_mean\": [\n",
      "    0.485,\n",
      "    0.456,\n",
      "    0.406\n",
      "  ],\n",
      "  \"image_processor_type\": \"LevitFeatureExtractor\",\n",
      "  \"image_std\": [\n",
      "    0.229,\n",
      "    0.224,\n",
      "    0.225\n",
      "  ],\n",
      "  \"resample\": 3,\n",
      "  \"rescale_factor\": 0.00392156862745098,\n",
      "  \"size\": {\n",
      "    \"shortest_edge\": 224\n",
      "  }\n",
      "}\n",
      "\n"
     ]
    },
    {
     "name": "stderr",
     "output_type": "stream",
     "text": [
      "c:\\Users\\bhegde\\codes\\MSOAInternGang\\aie_venv\\lib\\site-packages\\transformers\\models\\levit\\feature_extraction_levit.py:28: FutureWarning: The class LevitFeatureExtractor is deprecated and will be removed in version 5 of Transformers. Please use LevitImageProcessor instead.\n",
      "  warnings.warn(\n"
     ]
    }
   ],
   "source": [
    "from transformers import (\n",
    "    Trainer,\n",
    "    TrainingArguments,\n",
    "    LevitFeatureExtractor,\n",
    "    LevitForImageClassificationWithTeacher,\n",
    ")\n",
    "\n",
    "feature_ext = LevitFeatureExtractor.from_pretrained(\n",
    "    \"facebook/levit-128\", proxies={\"https\": \"proxy-ir.intel.com:912\"}\n",
    ")\n",
    "print(feature_ext)"
   ]
  }
 ],
 "metadata": {
  "kernelspec": {
   "display_name": "aie_venv",
   "language": "python",
   "name": "python3"
  },
  "language_info": {
   "codemirror_mode": {
    "name": "ipython",
    "version": 3
   },
   "file_extension": ".py",
   "mimetype": "text/x-python",
   "name": "python",
   "nbconvert_exporter": "python",
   "pygments_lexer": "ipython3",
   "version": "3.10.9"
  }
 },
 "nbformat": 4,
 "nbformat_minor": 4
}
